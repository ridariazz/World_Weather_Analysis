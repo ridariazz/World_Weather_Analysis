{
 "cells": [
  {
   "cell_type": "code",
   "execution_count": 1,
   "id": "97e963e4",
   "metadata": {},
   "outputs": [],
   "source": [
    "import random"
   ]
  },
  {
   "cell_type": "code",
   "execution_count": 3,
   "id": "c3fdd416",
   "metadata": {},
   "outputs": [
    {
     "data": {
      "text/plain": [
       "45"
      ]
     },
     "execution_count": 3,
     "metadata": {},
     "output_type": "execute_result"
    }
   ],
   "source": [
    "# randint() is short for \"random integer\"\n",
    "random.randint(-90, 90)"
   ]
  },
  {
   "cell_type": "code",
   "execution_count": 4,
   "id": "b755d75e",
   "metadata": {},
   "outputs": [
    {
     "data": {
      "text/plain": [
       "0.5403714241479279"
      ]
     },
     "execution_count": 4,
     "metadata": {},
     "output_type": "execute_result"
    }
   ],
   "source": [
    "# random() function: can get a single floating-point decimal number between 0 and 1.0\n",
    "random.random()"
   ]
  },
  {
   "cell_type": "code",
   "execution_count": 5,
   "id": "37dde886",
   "metadata": {},
   "outputs": [
    {
     "data": {
      "text/plain": [
       "-51.202451437141654"
      ]
     },
     "execution_count": 5,
     "metadata": {},
     "output_type": "execute_result"
    }
   ],
   "source": [
    "# can combine both fxns and change the lower range of the radint() bc we want whole numbers up to 89, so when we add\n",
    "# the floating-point number, we'll generate latitudes between -89.9999 and 89.9999\n",
    "random_number = random.randint(-90, 89) + random.random()\n",
    "random_number "
   ]
  },
  {
   "cell_type": "code",
   "execution_count": 9,
   "id": "72647bfa",
   "metadata": {},
   "outputs": [],
   "source": [
    "# Assign the3 variable x to 1\n",
    "x = 1\n",
    "\n",
    "# initialize an empty list \n",
    "latitudes = []\n",
    "\n",
    "# create a while loop where we generate a random latititude and add it to the list \n",
    "while x < 11:\n",
    "    random_lat = random.randint(-90, 89) + random.random()\n",
    "    # now, add one to the variable \"x\"\n",
    "    latitudes.append(random_lat)\n",
    "    x += 1\n",
    "# the while loop if checked again and will continue to run as long as x is less than 11"
   ]
  },
  {
   "cell_type": "code",
   "execution_count": 10,
   "id": "ef47bc31",
   "metadata": {},
   "outputs": [
    {
     "data": {
      "text/plain": [
       "46"
      ]
     },
     "execution_count": 10,
     "metadata": {},
     "output_type": "execute_result"
    }
   ],
   "source": [
    "# randrange()\n",
    "random.randrange(-90, 90, step=1)"
   ]
  },
  {
   "cell_type": "code",
   "execution_count": 11,
   "id": "fb6ca345",
   "metadata": {},
   "outputs": [
    {
     "data": {
      "text/plain": [
       "69"
      ]
     },
     "execution_count": 11,
     "metadata": {},
     "output_type": "execute_result"
    }
   ],
   "source": [
    "random.randrange(-90, 90, step=3)"
   ]
  },
  {
   "cell_type": "code",
   "execution_count": 12,
   "id": "54732cd0",
   "metadata": {},
   "outputs": [
    {
     "data": {
      "text/plain": [
       "49.36739310392835"
      ]
     },
     "execution_count": 12,
     "metadata": {},
     "output_type": "execute_result"
    }
   ],
   "source": [
    "# uniform() function: generate a floating-point decimal number b/w 2 numbers inside the ()\n",
    "random.uniform(-90, 90)"
   ]
  },
  {
   "cell_type": "code",
   "execution_count": 13,
   "id": "647c9519",
   "metadata": {},
   "outputs": [],
   "source": [
    "# Import the NumPy module.\n",
    "import numpy as np"
   ]
  },
  {
   "cell_type": "code",
   "execution_count": 14,
   "id": "1d7db01d",
   "metadata": {},
   "outputs": [
    {
     "data": {
      "text/plain": [
       "9.274242132948231"
      ]
     },
     "execution_count": 14,
     "metadata": {},
     "output_type": "execute_result"
    }
   ],
   "source": [
    "np.random.uniform(-90.000, 90.000)"
   ]
  },
  {
   "cell_type": "code",
   "execution_count": 15,
   "id": "e402c61e",
   "metadata": {},
   "outputs": [
    {
     "data": {
      "text/plain": [
       "array([ 2.44033134e+01, -6.61040711e+01, -2.95537024e+01, -3.59161883e+01,\n",
       "        3.69899878e+01,  7.06907354e+01, -5.95197544e+01, -1.47481976e+01,\n",
       "       -1.69980199e+00,  6.72710958e+01,  7.49541888e+01, -6.36074886e+01,\n",
       "       -3.28851851e+01,  8.71795832e+01, -4.28906010e+01, -3.45656678e+01,\n",
       "        5.18233352e+00,  7.83851162e-03,  5.76379271e+01,  4.05198296e+01,\n",
       "       -7.42575686e+01, -3.59455710e+01, -2.91968333e+00,  7.06321133e+01,\n",
       "       -6.91583175e+01, -7.79038619e+01, -8.80197726e+01,  4.21486059e+01,\n",
       "       -1.37294209e-01, -6.49103385e+01, -6.49984368e+01, -5.38344638e+01,\n",
       "        1.04751612e+01, -4.32168063e+01, -5.26178038e+01, -3.36515535e+01,\n",
       "       -3.98432180e+00,  7.51700387e+01,  7.27977324e+01,  3.35701516e+01,\n",
       "       -2.75866336e+01, -4.45061191e+01,  7.29735515e+01,  7.48288476e+00,\n",
       "       -2.63161434e+01, -8.59281223e+01, -1.60188148e+01, -1.59650842e+01,\n",
       "        6.66879965e+01,  4.65377153e+01])"
      ]
     },
     "execution_count": 15,
     "metadata": {},
     "output_type": "execute_result"
    }
   ],
   "source": [
    "np.random.uniform(-90.000, 90.000, size=50)"
   ]
  },
  {
   "cell_type": "code",
   "execution_count": 16,
   "id": "9f407829",
   "metadata": {},
   "outputs": [],
   "source": [
    "# to test how long a piece of code or function takes to run \n",
    "# Import timeit.\n",
    "import timeit"
   ]
  },
  {
   "cell_type": "code",
   "execution_count": 18,
   "id": "65df9ace",
   "metadata": {},
   "outputs": [
    {
     "name": "stdout",
     "output_type": "stream",
     "text": [
      "13.9 µs ± 100 ns per loop (mean ± std. dev. of 7 runs, 100,000 loops each)\n"
     ]
    }
   ],
   "source": [
    "# add the %timeit magic command before the \"np.random.uniform(-90.000, 90.000, size=1500)\"\n",
    "%timeit np.random.uniform(-90.000, 90.000, size=1500)"
   ]
  },
  {
   "cell_type": "code",
   "execution_count": 21,
   "id": "ea8c0744",
   "metadata": {},
   "outputs": [
    {
     "name": "stdout",
     "output_type": "stream",
     "text": [
      "1.11 ms ± 1.86 µs per loop (mean ± std. dev. of 7 runs, 1,000 loops each)\n"
     ]
    }
   ],
   "source": [
    "def latitudes(size):\n",
    "    latitudes = []\n",
    "    x = 0\n",
    "    while x < (size):\n",
    "        random_lat = random.randint(-90, 90) + random.random()\n",
    "        latitudes.append(random_lat)\n",
    "        x += 1\n",
    "    return latitudes\n",
    "# Call the function with 1500.\n",
    "%timeit latitudes(1500)"
   ]
  },
  {
   "cell_type": "code",
   "execution_count": null,
   "id": "de6391c7",
   "metadata": {},
   "outputs": [],
   "source": []
  }
 ],
 "metadata": {
  "kernelspec": {
   "display_name": "PythonData",
   "language": "python",
   "name": "pythondata"
  },
  "language_info": {
   "codemirror_mode": {
    "name": "ipython",
    "version": 3
   },
   "file_extension": ".py",
   "mimetype": "text/x-python",
   "name": "python",
   "nbconvert_exporter": "python",
   "pygments_lexer": "ipython3",
   "version": "3.9.12"
  }
 },
 "nbformat": 4,
 "nbformat_minor": 5
}
